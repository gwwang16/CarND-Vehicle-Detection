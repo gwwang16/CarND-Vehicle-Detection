{
 "cells": [
  {
   "cell_type": "code",
   "execution_count": 1,
   "metadata": {},
   "outputs": [],
   "source": [
    "import numpy as np\n",
    "import cv2\n",
    "import pickle\n",
    "import glob, os\n",
    "import matplotlib.pyplot as plt\n",
    "import matplotlib.image as mpimg\n",
    "%matplotlib inline"
   ]
  },
  {
   "cell_type": "code",
   "execution_count": 2,
   "metadata": {
    "collapsed": true
   },
   "outputs": [],
   "source": [
    "from skimage.feature import hog\n",
    "from sklearn.svm import LinearSVC\n",
    "from sklearn.model_selection import train_test_split\n",
    "from sklearn.preprocessing import StandardScaler\n",
    "from scipy.ndimage.measurements import label"
   ]
  },
  {
   "cell_type": "code",
   "execution_count": 3,
   "metadata": {},
   "outputs": [
    {
     "name": "stdout",
     "output_type": "stream",
     "text": [
      "Classifier loaded.\n",
      "Feature parameters loaded.\n"
     ]
    }
   ],
   "source": [
    "# Load model parameters\n",
    "if not os.path.exists(\"./model_pickle.p\"):\n",
    "    print(\"Train the classifier first!\")\n",
    "else:    \n",
    "    model_pickle = pickle.load( open( \"./model_pickle.p\", \"rb\" ))\n",
    "    svc = model_pickle['model']\n",
    "    feature_params = model_pickle['params']\n",
    "    print(\"Classifier loaded.\")\n",
    "    del model_pickle\n",
    "    \n",
    "# load the feature pickle\n",
    "if not os.path.exists(\"./feature_pickle.p\"):\n",
    "    print(\"Save feature parameters first!\")\n",
    "else:\n",
    "    feature_pickle = pickle.load(open(\"./feature_pickle.p\", 'rb'))\n",
    "    X_scaler = feature_pickle['X_scaler']\n",
    "    print(\"Feature parameters loaded.\")\n",
    "    del feature_pickle"
   ]
  },
  {
   "cell_type": "code",
   "execution_count": 4,
   "metadata": {},
   "outputs": [],
   "source": [
    "from VehicleDetection import VehicleDetection\n",
    "\n",
    "VehicleDetection = VehicleDetection(feature_params)"
   ]
  },
  {
   "cell_type": "code",
   "execution_count": 5,
   "metadata": {
    "collapsed": true
   },
   "outputs": [],
   "source": [
    "def pipeline(img):\n",
    "    scales = [1, 1.3, 1.5]\n",
    "    out_img, box_lists = VehicleDetection.multi_scale(img, scales, svc, X_scaler)\n",
    "    draw_img = VehicleDetection.draw_heat_box(img, box_lists, 4)\n",
    "    \n",
    "    out_img = cv2.resize(out_img, (320,240))\n",
    "    \n",
    "    output_image = np.ones((img.shape[0], img.shape[1], 3))*255\n",
    "    output_image[0:img.shape[0], 0:img.shape[1]] = draw_img\n",
    "    \n",
    "    output_image[8:252, 8:332] = np.ones((244, 324, 3))*255\n",
    "    output_image[10:250, 10:330] = out_img\n",
    "    \n",
    "    font_type = cv2.FONT_HERSHEY_DUPLEX \n",
    "    cv2.putText(output_image, \"Detected boxes\", (30, 30), font_type, 0.8, (255,255,255), 2)\n",
    "#     cv2.putText(output_image, \"Filtered boxes\", (20, 640), font_type, 0.8, (255,255,255), 2)\n",
    "\n",
    "    return output_image"
   ]
  },
  {
   "cell_type": "code",
   "execution_count": 6,
   "metadata": {
    "scrolled": true
   },
   "outputs": [
    {
     "name": "stdout",
     "output_type": "stream",
     "text": [
      "[MoviePy] >>>> Building video ../test_video_output.mp4\n",
      "[MoviePy] Writing video ../test_video_output.mp4\n"
     ]
    },
    {
     "name": "stderr",
     "output_type": "stream",
     "text": [
      " 97%|████████████████████████████████████████▉ | 38/39 [01:21<00:02,  2.18s/it]\n"
     ]
    },
    {
     "name": "stdout",
     "output_type": "stream",
     "text": [
      "[MoviePy] Done.\n",
      "[MoviePy] >>>> Video ready: ../test_video_output.mp4 \n",
      "\n",
      "Wall time: 1min 23s\n"
     ]
    }
   ],
   "source": [
    "from moviepy.editor import VideoFileClip\n",
    "video_output = '../test_video_output.mp4'\n",
    "clip1 = VideoFileClip(\"../test_video.mp4\");\n",
    "white_clip = clip1.fl_image(pipeline) \n",
    "%time white_clip.write_videofile(video_output, audio = False, threads=4);"
   ]
  },
  {
   "cell_type": "code",
   "execution_count": 7,
   "metadata": {},
   "outputs": [
    {
     "data": {
      "text/html": [
       "\n",
       "<video width=\"800\" height=\"600\" controls>\n",
       "  <source src=\"../test_video_output.mp4\">\n",
       "</video>\n"
      ],
      "text/plain": [
       "<IPython.core.display.HTML object>"
      ]
     },
     "execution_count": 7,
     "metadata": {},
     "output_type": "execute_result"
    }
   ],
   "source": [
    "from IPython.display import HTML\n",
    "HTML(\"\"\"\n",
    "<video width=\"800\" height=\"600\" controls>\n",
    "  <source src=\"{0}\">\n",
    "</video>\n",
    "\"\"\".format(video_output))"
   ]
  },
  {
   "cell_type": "code",
   "execution_count": 8,
   "metadata": {},
   "outputs": [
    {
     "name": "stdout",
     "output_type": "stream",
     "text": [
      "[MoviePy] >>>> Building video ../project_video_output.mp4\n",
      "[MoviePy] Writing video ../project_video_output.mp4\n"
     ]
    },
    {
     "name": "stderr",
     "output_type": "stream",
     "text": [
      "100%|█████████████████████████████████████▉| 1260/1261 [44:53<00:02,  2.10s/it]\n"
     ]
    },
    {
     "name": "stdout",
     "output_type": "stream",
     "text": [
      "[MoviePy] Done.\n",
      "[MoviePy] >>>> Video ready: ../project_video_output.mp4 \n",
      "\n",
      "Wall time: 44min 55s\n"
     ]
    }
   ],
   "source": [
    "from moviepy.editor import VideoFileClip\n",
    "video_output2 = '../project_video_output.mp4'\n",
    "clip2 = VideoFileClip(\"../project_video.mp4\");\n",
    "white_clip = clip2.fl_image(pipeline) \n",
    "%time white_clip.write_videofile(video_output2, audio = False, threads=4);"
   ]
  },
  {
   "cell_type": "code",
   "execution_count": 9,
   "metadata": {},
   "outputs": [
    {
     "data": {
      "text/html": [
       "\n",
       "<video width=\"800\" height=\"600\" controls>\n",
       "  <source src=\"../project_video_output.mp4\">\n",
       "</video>\n"
      ],
      "text/plain": [
       "<IPython.core.display.HTML object>"
      ]
     },
     "execution_count": 9,
     "metadata": {},
     "output_type": "execute_result"
    }
   ],
   "source": [
    "from IPython.display import HTML\n",
    "HTML(\"\"\"\n",
    "<video width=\"800\" height=\"600\" controls>\n",
    "  <source src=\"{0}\">\n",
    "</video>\n",
    "\"\"\".format(video_output2))"
   ]
  },
  {
   "cell_type": "code",
   "execution_count": null,
   "metadata": {
    "collapsed": true
   },
   "outputs": [],
   "source": []
  }
 ],
 "metadata": {
  "kernelspec": {
   "display_name": "Python 3",
   "language": "python",
   "name": "python3"
  },
  "language_info": {
   "codemirror_mode": {
    "name": "ipython",
    "version": 3
   },
   "file_extension": ".py",
   "mimetype": "text/x-python",
   "name": "python",
   "nbconvert_exporter": "python",
   "pygments_lexer": "ipython3",
   "version": "3.5.4"
  }
 },
 "nbformat": 4,
 "nbformat_minor": 2
}
